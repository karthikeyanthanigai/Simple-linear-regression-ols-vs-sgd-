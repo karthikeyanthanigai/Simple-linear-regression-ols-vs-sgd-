{
  "nbformat": 4,
  "nbformat_minor": 0,
  "metadata": {
    "colab": {
      "name": "simple linear regression",
      "provenance": [],
      "authorship_tag": "ABX9TyPtGbK+ZUYatQgTezT9UNeB",
      "include_colab_link": true
    },
    "kernelspec": {
      "name": "python3",
      "display_name": "Python 3"
    }
  },
  "cells": [
    {
      "cell_type": "markdown",
      "metadata": {
        "id": "view-in-github",
        "colab_type": "text"
      },
      "source": [
        "<a href=\"https://colab.research.google.com/github/karthikeyanthanigai/Simple-linear-regression-ols-vs-sgd-/blob/master/simple_linear_regression.ipynb\" target=\"_parent\"><img src=\"https://colab.research.google.com/assets/colab-badge.svg\" alt=\"Open In Colab\"/></a>"
      ]
    },
    {
      "cell_type": "code",
      "metadata": {
        "id": "xNrpVHuVednL",
        "colab_type": "code",
        "colab": {}
      },
      "source": [
        "#import the needed packages!!\n",
        "import numpy as np\n",
        "import pandas as pd\n",
        "import matplotlib.pyplot as plt"
      ],
      "execution_count": 0,
      "outputs": []
    },
    {
      "cell_type": "code",
      "metadata": {
        "id": "aNlgT84eelzF",
        "colab_type": "code",
        "colab": {}
      },
      "source": [
        "#import dataset\n",
        "dataset=pd.read_csv('Salary_Data.csv')\n",
        "X=dataset.iloc[:,[0]].values\n",
        "y=dataset.iloc[:,[-1]].values"
      ],
      "execution_count": 0,
      "outputs": []
    },
    {
      "cell_type": "code",
      "metadata": {
        "id": "gXVdpXl8epWz",
        "colab_type": "code",
        "colab": {
          "base_uri": "https://localhost:8080/",
          "height": 295
        },
        "outputId": "e7ca5fae-b336-4f62-a625-a7e6b325a8e1"
      },
      "source": [
        "#plot the values\n",
        "plt.scatter(X, y, color = 'red')\n",
        "plt.title('Salary vs Experience')\n",
        "plt.xlabel('Years of Experience')\n",
        "plt.ylabel('Salary')\n",
        "plt.show()"
      ],
      "execution_count": 4,
      "outputs": [
        {
          "output_type": "display_data",
          "data": {
            "image/png": "[encoded data removed]",
            "text/plain": [
              "<Figure size 432x288 with 1 Axes>"
            ]
          },
          "metadata": {
            "tags": [],
            "needs_background": "light"
          }
        }
      ]
    },
    {
      "cell_type": "markdown",
      "metadata": {
        "id": "pMSAeRtIfdrI",
        "colab_type": "text"
      },
      "source": [
        "if you see this graph this indepented variables(x)(years of experience) are plotted agiants the dependent variable(y)(salary)."
      ]
    },
    {
      "cell_type": "code",
      "metadata": {
        "id": "9Ce5m8FnepP3",
        "colab_type": "code",
        "colab": {}
      },
      "source": [
        "# Splitting the dataset into the train and test\n",
        "from sklearn.model_selection import train_test_split\n",
        "X_train, X_test, y_train, y_test = train_test_split(X, y, test_size = 0.25, random_state = 0)#keep random_state value same to get the same result!!"
      ],
      "execution_count": 0,
      "outputs": []
    },
    {
      "cell_type": "code",
      "metadata": {
        "id": "dslVwU7LepNO",
        "colab_type": "code",
        "colab": {}
      },
      "source": [
        "\n",
        "# simple linear regression model on the training set with ordinary least square\n",
        "from sklearn.linear_model import LinearRegression\n",
        "regressor1 = LinearRegression()\n",
        "regressor1.fit(X_train, y_train)\n",
        "\n",
        "# Predicting the Test set results\n",
        "y_pred1 = regressor1.predict(X_test)"
      ],
      "execution_count": 0,
      "outputs": []
    },
    {
      "cell_type": "code",
      "metadata": {
        "id": "34Dv6U4SepK5",
        "colab_type": "code",
        "colab": {
          "base_uri": "https://localhost:8080/",
          "height": 71
        },
        "outputId": "97f26f0d-5967-4198-c7d6-7cfa19e62536"
      },
      "source": [
        "#simple linear regression model on the training set with stochastic gradient descent\n",
        "from sklearn import linear_model\n",
        "regressor2 = linear_model.SGDRegressor(max_iter=1000, tol=1e-3,random_state=0)\n",
        "regressor2.fit(X_train, y_train)\n",
        "\n",
        "#prediciting the tesy set results\n",
        "y_pred2= regressor2.predict(X_test)"
      ],
      "execution_count": 7,
      "outputs": [
        {
          "output_type": "stream",
          "text": [
            "/usr/local/lib/python3.6/dist-packages/sklearn/utils/validation.py:760: DataConversionWarning: A column-vector y was passed when a 1d array was expected. Please change the shape of y to (n_samples, ), for example using ravel().\n",
            "  y = column_or_1d(y, warn=True)\n"
          ],
          "name": "stderr"
        }
      ]
    },
    {
      "cell_type": "code",
      "metadata": {
        "id": "eM-nO_ogepIM",
        "colab_type": "code",
        "colab": {
          "base_uri": "https://localhost:8080/",
          "height": 295
        },
        "outputId": "469925db-aac2-4499-db10-2905317b1fcf"
      },
      "source": [
        "\n",
        "# Visualising the Training set results with both the methods\n",
        "#blue line is ols and pink line is sgd\n",
        "plt.scatter(X_train, y_train, color = 'red')\n",
        "plt.plot(X_train, regressor1.predict(X_train), color = 'blue')\n",
        "plt.plot(X_train, regressor2.predict(X_train), color = 'pink')\n",
        "plt.title('Salary vs Experience (Training set)')\n",
        "plt.xlabel('Years of Experience')\n",
        "plt.ylabel('Salary')\n",
        "plt.show()"
      ],
      "execution_count": 8,
      "outputs": [
        {
          "output_type": "display_data",
          "data": {
            "image/png": "[encoded data removed]",
            "text/plain": [
              "<Figure size 432x288 with 1 Axes>"
            ]
          },
          "metadata": {
            "tags": [],
            "needs_background": "light"
          }
        }
      ]
    },
    {
      "cell_type": "code",
      "metadata": {
        "id": "oBGnx2jDe5Z8",
        "colab_type": "code",
        "colab": {
          "base_uri": "https://localhost:8080/",
          "height": 295
        },
        "outputId": "ffd15cb0-48a7-42e3-d04b-c6b27fe5a4dc"
      },
      "source": [
        "\n",
        "# Visualising the Test set results with both the methods\n",
        "#blue line is ols and pink line is sgd\n",
        "plt.scatter(X_test, y_test, color = 'red')\n",
        "plt.plot(X_train, regressor1.predict(X_train), color = 'blue')\n",
        "plt.plot(X_train, regressor2.predict(X_train), color = 'pink')\n",
        "plt.title('Salary vs Experience (Test set)')\n",
        "plt.xlabel('Years of Experience')\n",
        "plt.ylabel('Salary')\n",
        "plt.show()"
      ],
      "execution_count": 9,
      "outputs": [
        {
          "output_type": "display_data",
          "data": {
            "image/png": "[encoded data removed]",
            "text/plain": [
              "<Figure size 432x288 with 1 Axes>"
            ]
          },
          "metadata": {
            "tags": [],
            "needs_background": "light"
          }
        }
      ]
    },
    {
      "cell_type": "code",
      "metadata": {
        "id": "08ookxJVe5VA",
        "colab_type": "code",
        "colab": {
          "base_uri": "https://localhost:8080/",
          "height": 34
        },
        "outputId": "0ff96447-4cde-4a7e-c3e1-a2ea5ae77fd1"
      },
      "source": [
        "\n",
        "#r2_score for both the methods\n",
        "from sklearn.metrics import r2_score\n",
        "#r2 for OLS model\n",
        "r_squared1 = r2_score(y_test, y_pred1)\n",
        "\n",
        "#r2 for SGD model\n",
        "r_squared2 = r2_score(y_test, y_pred2)\n",
        "print(r_squared1,r_squared2)"
      ],
      "execution_count": 10,
      "outputs": [
        {
          "output_type": "stream",
          "text": [
            "0.9779208335417602 0.9793525858616979\n"
          ],
          "name": "stdout"
        }
      ]
    },
    {
      "cell_type": "code",
      "metadata": {
        "id": "E9A5CNa4fcVk",
        "colab_type": "code",
        "colab": {}
      },
      "source": [
        ""
      ],
      "execution_count": 0,
      "outputs": []
    }
  ]
}